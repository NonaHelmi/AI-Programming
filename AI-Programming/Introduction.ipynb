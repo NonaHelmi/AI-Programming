{
 "cells": [
  {
   "cell_type": "markdown",
   "source": [
    "# AI Course"
   ],
   "metadata": {}
  },
  {
   "cell_type": "markdown",
   "source": [
    "## Contents\n",
    "\n",
    "### First part:\n",
    "- Search problems\n",
    "    - Uninformed search strategies:\n",
    "        - BFS, DFS, UCS, DLS, IDS\n",
    "    - Informed search strategies:\n",
    "        - Gready, A-star\n",
    "    - Local search:\n",
    "        - Hill climbing, Simulated Annealing, Genetic algorithms\n",
    "    - Adversarial search and games\n",
    "        - MiniMax, alpha-beta pruning"
   ],
   "metadata": {}
  },
  {
   "cell_type": "markdown",
   "source": [
    "### Second part:\n",
    "- Machine learning\n",
    "    - Supervised learning:\n",
    "        - KNN, Naive Bayes, Desision Trees, SVM, Neural Nets\n",
    "    - Unsupervised learning:\n",
    "        - k-Means clustering\n",
    "    - Reinforcement learning\n",
    "        - Q-learning"
   ],
   "metadata": {}
  },
  {
   "cell_type": "markdown",
   "source": [
    "### Example problems\n",
    "- Search:\n",
    "    - N-Puzzle, N-Queens, TSP\n",
    "- Games:\n",
    "    - Pacman, Chess\n",
    "- Learning:\n",
    "    - Pacman, Chess, etc."
   ],
   "metadata": {}
  },
  {
   "cell_type": "markdown",
   "source": [
    "### Lesson 1: Uninformed (blind) search strategies\n",
    "- Implementing data structures like stack, queue and priority queue\n",
    "- Implementing N-Puzzle (8-Puzzle)\n",
    "- Implementing uninformed search strategies: BFS, DFS, UCS, DLS, IDS\n",
    "- Programming assignment"
   ],
   "metadata": {}
  },
  {
   "cell_type": "markdown",
   "source": [
    "### Lesson 2: Informed search strategies\n",
    "- Implementing informed search strategies: Greedy, A-star\n",
    "- Programming assignment"
   ],
   "metadata": {}
  },
  {
   "cell_type": "markdown",
   "source": [
    "### Lesson 3: Local search\n",
    "- Implementing N-Queens and TSP(a graphical implementation)\n",
    "- Implementing local search strategies: hill climbing, simulated annealing and genetic algorithms\n",
    "- Programming assignment"
   ],
   "metadata": {}
  },
  {
   "cell_type": "markdown",
   "source": [
    "### Lesson 4: Adversarial search and games\n",
    "- Implementing Otello\n",
    "- Implementing adversarial search algoritms: Minimax and alpha-beta prunning\n",
    "- Programming assignment"
   ],
   "metadata": {}
  },
  {
   "cell_type": "markdown",
   "source": [
    "## Prerequisite\n",
    "- Basic knowledge of programming (Python)\n",
    "- Basic knowledge of data structures and algorithms"
   ],
   "metadata": {}
  },
  {
   "cell_type": "markdown",
   "source": [
    "## After first part:\n",
    "- You will have a good understanding of basic AI techniques (solving problems using searching)\n",
    "- You will become a real python programmer and most importantly a real programmer!\n",
    "- You will see a lot of programming challenges and you will learn how to solve them"
   ],
   "metadata": {}
  },
  {
   "cell_type": "markdown",
   "source": [],
   "metadata": {}
  }
 ],
 "metadata": {
  "orig_nbformat": 4,
  "language_info": {
   "name": "python"
  }
 },
 "nbformat": 4,
 "nbformat_minor": 2
}