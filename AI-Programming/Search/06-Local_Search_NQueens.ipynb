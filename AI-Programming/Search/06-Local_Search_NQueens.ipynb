{
 "cells": [
  {
   "cell_type": "markdown",
   "source": [
    "<div class='alert alert-success'>\n",
    "    <h1 align=\"center\">Local Search Algorithms: N-Queens Problem</h1> \n",
    "    <h3 align=\"center\">Artificial Intelligece Course (Fall 2021)</h3>\n",
    "    <h5 align=\"center\">Seyed Naser RAZAVI <a href='http://www.snrazavi.ir/ai-slides/'>(website)</a></h5>\n",
    "</div>"
   ],
   "metadata": {}
  },
  {
   "cell_type": "code",
   "execution_count": 1,
   "source": [
    "import random\n",
    "import matplotlib.pyplot as plt\n",
    "\n",
    "import ipywidgets as widgets\n",
    "\n",
    "plt.rcParams['figure.figsize'] = (6, 6)"
   ],
   "outputs": [],
   "metadata": {}
  },
  {
   "cell_type": "markdown",
   "source": [
    "## N-Queens Problem\n",
    "- **Goal**: Place N queens on a N-by-N chess board so that no two queens can attack each other.\n",
    "- Thus a solution requires that no two queens share the same row, column or diagonal.\n",
    "\n",
    "<p align=\"center\">\n",
    "    <img src=\"imgs/Four-Queens-Local-Search.png\" width=\"70%\">\n",
    "</p>\n",
    "<h6 align=\"center\">4-Queens problem</h6>![image.png](attachment:5cd8d9db-541a-4aa6-81fa-21e9a0730da8.png)"
   ],
   "metadata": {}
  },
  {
   "cell_type": "markdown",
   "source": [
    "### Problem formulation: First formulation\n",
    "- **States**: each column contains only one queen.\n",
    "- **Actions**: move a queen to another row in its column.\n",
    "- **State Space Size**: $N^N$\n"
   ],
   "metadata": {}
  },
  {
   "cell_type": "markdown",
   "source": [
    "### Problem formulation: Second formulation (Permuatation)\n",
    "- **States**: each column and each row contains only one queen.\n",
    "- **Actions**: move a queen to another row in its column which is not occupied.\n",
    "- **State Space Size**: $N!$"
   ],
   "metadata": {}
  },
  {
   "cell_type": "markdown",
   "source": [
    "### Implementing N-Queens states based on second formulation"
   ],
   "metadata": {}
  },
  {
   "cell_type": "code",
   "execution_count": 2,
   "source": [
    "class NQueensState:\n",
    "    '''N-Queens state based on permutation formulation'''\n",
    "    \n",
    "    def __init__(self, queens=None, N=8):\n",
    "        ''' Constructor '''\n",
    "\n",
    "        if queens:\n",
    "            self.N = len(queens)\n",
    "            self.queens = queens.copy()\n",
    "        else:\n",
    "            self.N = N\n",
    "            self.queens = list(range(1, N + 1))\n",
    "\n",
    "        self.num_conflicts = None    \n",
    "        \n",
    "    def __eq__(self, other):\n",
    "        if self is other: return True\n",
    "        if other is None: return False\n",
    "        if not isinstance(other, NQueensState): return False\n",
    "    \n",
    "        return self.conflicts() == other.conflicts()\n",
    "    \n",
    "    def __ge__(self, other):\n",
    "        if self is other: return True\n",
    "        if other is None: return False\n",
    "        if not isinstance(other, NQueensState): return False\n",
    "    \n",
    "        return self.conflicts() >= other.conflicts()        \n",
    "        \n",
    "    def conflicts(self):\n",
    "        ''' Computes number of pairs og queens which are on the same diagonal'''\n",
    "\n",
    "        if self.num_conflicts is None:\n",
    "            self.num_conflicts = sum([abs(self.queens[j] - self.queens[i]) == j - i\n",
    "                                      for i in range(self.N - 1)\n",
    "                                      for j in range(i + 1, self.N)])\n",
    "\n",
    "        return self.num_conflicts\n",
    "                            \n",
    "    def neighbors(self):\n",
    "        ''' Create all successors by considering every pair and swaping their position'''\n",
    "\n",
    "        N = self.N\n",
    "        \n",
    "        for i in range(N - 1):\n",
    "            for j in range(i + 1, N):\n",
    "                neighbor = NQueensState(queens=self.queens)\n",
    "                neighbor.queens[i], neighbor.queens[j] = neighbor.queens[j], neighbor.queens[i]\n",
    "                yield neighbor\n",
    "    \n",
    "    def best_neighbor(self):\n",
    "        ''' find a neighbor with minimum number of conflicts'''\n",
    "\n",
    "        min_conflicts = self.N * (self.N - 1) // 2\n",
    "        best = None\n",
    "        for neighbor in self.neighbors():\n",
    "            if neighbor.conflicts() < min_conflicts:\n",
    "                min_conflicts, best = neighbor.conflicts(), neighbor\n",
    "        return best\n",
    "\n",
    "        #         return min(self.neighbors(), key=lambda x: x.conflicts())\n",
    "    \n",
    "    def random_neighbor(self):\n",
    "        ''' find a random neighbor by swaping two randomly selected queens'''\n",
    "\n",
    "        i = random.randint(0, self.N - 2)\n",
    "        j = random.randint(i + 1, self.N - 1)\n",
    "        neighbor = NQueensState(queens=self.queens)\n",
    "        neighbor.queens[i], neighbor.queens[j] = neighbor.queens[j], neighbor.queens[i]\n",
    "        return neighbor\n",
    "    \n",
    "    @staticmethod\n",
    "    def random_state(N=8):\n",
    "        queens = list(range(1, N + 1))\n",
    "        random.shuffle(queens)\n",
    "        return NQueensState(queens=queens)\n",
    "\n",
    "    def plot(self, ax=None, figsize=(6, 6), show_conflicts=False, fc='darkslateblue'):\n",
    "        \n",
    "        if ax is None:\n",
    "            fig = plt.figure(figsize=figsize)\n",
    "            ax = fig.add_subplot(1,1,1)\n",
    "        \n",
    "        N = self.N\n",
    "\n",
    "        border = plt.Rectangle((0, 0), N, N, ec=fc, fc='w', alpha=0.35)\n",
    "        ax.add_patch(border)\n",
    "\n",
    "        # draw chess board\n",
    "        for i in range(N):\n",
    "            for j in range(N):\n",
    "                alpha = 0.35 if (i + j) % 2 == 0 else 0.1\n",
    "                cell = plt.Rectangle((i, j), 1, 1, fc=fc, alpha=alpha)\n",
    "                ax.add_patch(cell)\n",
    "\n",
    "        # show conflicts\n",
    "        if show_conflicts:\n",
    "            for i in range(N - 1):\n",
    "                row_i = self.queens[i]\n",
    "                for j in range(i + 1, N):\n",
    "                    row_j = self.queens[j]\n",
    "                    if row_i == row_j or abs(row_i - row_j) == j - i:\n",
    "                        x1, x2 = i + 0.5, j + 0.5\n",
    "                        y1, y2 = (row_i - 1) + 0.5, (row_j - 1) + 0.5\n",
    "                        line = plt.Line2D((x1, x2), (y1, y2), lw=3, ls='-', color='orchid', alpha=0.6)\n",
    "                        ax.add_line(line)\n",
    "\n",
    "        # place queens on chess board\n",
    "        for col, row in enumerate(self.queens):\n",
    "            # c = 'k' if (col + row) % 2 == 0 else 'w'\n",
    "            x = col + 0.5\n",
    "            y = (row - 1) + 0.5\n",
    "            fs = max(1, figsize[0] * 50 // N)\n",
    "            ax.text(x, y, '♛', color='k', fontsize=fs, ha='center', va='center')\n",
    "\n",
    "        ax.axis('square')\n",
    "        ax.axis('off')\n",
    "        ax.set_title(\"Conflicts = {}\".format(self.conflicts()), fontsize=18)\n",
    "        plt.show()    \n",
    "        \n",
    "    def __str__(self):\n",
    "        return f'{self.queens} <{self.conflicts()}>'\n",
    "    \n",
    "    def __repr__(self):\n",
    "        return f'NQueensState(queens={self.queens})'"
   ],
   "outputs": [],
   "metadata": {}
  },
  {
   "cell_type": "code",
   "execution_count": 3,
   "source": [
    "state = NQueensState.random_state()\n",
    "print(state)"
   ],
   "outputs": [
    {
     "output_type": "stream",
     "name": "stdout",
     "text": [
      "[5, 2, 8, 1, 6, 4, 7, 3] <4>\n"
     ]
    }
   ],
   "metadata": {}
  },
  {
   "cell_type": "code",
   "execution_count": 4,
   "source": [
    "state = NQueensState.random_state(N=8)\n",
    "print(state)"
   ],
   "outputs": [
    {
     "output_type": "stream",
     "name": "stdout",
     "text": [
      "[5, 1, 3, 2, 8, 7, 6, 4] <7>\n"
     ]
    }
   ],
   "metadata": {}
  },
  {
   "cell_type": "code",
   "execution_count": 5,
   "source": [
    "state.plot(show_conflicts=True)"
   ],
   "outputs": [
    {
     "output_type": "display_data",
     "data": {
      "image/png": "[encoded data removed]",
      "text/plain": [
       "<Figure size 432x432 with 1 Axes>"
      ]
     },
     "metadata": {
      "needs_background": "light"
     }
    }
   ],
   "metadata": {}
  },
  {
   "cell_type": "code",
   "execution_count": 6,
   "source": [
    "best_neighbor = state.best_neighbor()\n",
    "best_neighbor.plot(show_conflicts=True)"
   ],
   "outputs": [
    {
     "output_type": "display_data",
     "data": {
      "image/png": "[encoded data removed]",
      "text/plain": [
       "<Figure size 432x432 with 1 Axes>"
      ]
     },
     "metadata": {
      "needs_background": "light"
     }
    }
   ],
   "metadata": {}
  },
  {
   "cell_type": "code",
   "execution_count": 7,
   "source": [
    "best_neighbor"
   ],
   "outputs": [
    {
     "output_type": "execute_result",
     "data": {
      "text/plain": [
       "NQueensState(queens=[5, 1, 3, 6, 8, 7, 2, 4])"
      ]
     },
     "metadata": {},
     "execution_count": 7
    }
   ],
   "metadata": {}
  }
 ],
 "metadata": {
  "kernelspec": {
   "name": "python3",
   "display_name": "Python 3.9.6 64-bit ('venv': venv)"
  },
  "language_info": {
   "codemirror_mode": {
    "name": "ipython",
    "version": 3
   },
   "file_extension": ".py",
   "mimetype": "text/x-python",
   "name": "python",
   "nbconvert_exporter": "python",
   "pygments_lexer": "ipython3",
   "version": "3.9.6"
  },
  "interpreter": {
   "hash": "db4280cfac26d1f17ba08bcc8b51b906ec3585d94092157597b7da58b570ab73"
  }
 },
 "nbformat": 4,
 "nbformat_minor": 5
}