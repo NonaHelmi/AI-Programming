{
 "cells": [
  {
   "cell_type": "markdown",
   "source": [
    "<div class='alert alert-success'>\n",
    "    <h1 align=\"center\">Search Algorithms: N-Puzzle Problem Formulation</h1> \n",
    "    <h3 align=\"center\">Artificial Intelligece Course (Fall 2021)</h3>\n",
    "    <h5 align=\"center\">Seyed Naser RAZAVI <a href='http://www.snrazavi.ir/ai-slides/'>(website)</a></h5>\n",
    "</div>"
   ],
   "metadata": {}
  },
  {
   "cell_type": "code",
   "execution_count": 1,
   "source": [
    "%matplotlib inline\n",
    "%reload_ext autoreload\n",
    "%autoreload 2\n",
    "\n",
    "import math\n",
    "import matplotlib.pyplot as plt"
   ],
   "outputs": [],
   "metadata": {
    "scrolled": true
   }
  },
  {
   "cell_type": "markdown",
   "source": [
    "## Contents\n",
    "- Search problems\n",
    "- Problem formulation\n",
    "- Example: N-Puzzle Problem"
   ],
   "metadata": {}
  },
  {
   "cell_type": "markdown",
   "source": [
    "### Search problems\n",
    "Given a **state space graph**, the goal is to search for a path from the start state to the goal state.\n",
    "\n",
    "\n",
    "#### State space graph (Romania)\n",
    "<img src='imgs/Romania.png' width='80%'>\n",
    "\n",
    "\n",
    "#### State space graph (Vaccum world)\n",
    "<img src='imgs/vaccum_world.png' width='80%'>"
   ],
   "metadata": {}
  },
  {
   "cell_type": "markdown",
   "source": [
    "## 8-puzzle Problem\n",
    "\n",
    "<img src='imgs/eight_puzzle_start_goal_actions.png' width='70%'>\n",
    "<h6 align='center'>8-puzzle Problem (figure from <a href='http://ai.berkeley.edu/home.html'> AI Berekley</a>)</h6>"
   ],
   "metadata": {}
  },
  {
   "cell_type": "markdown",
   "source": [
    "The 8-puzzle is a sliding puzzle that consists of a frame of numbered square tiles from 1 to 8 in random order with one tile missing. The object of the puzzle is to place the tiles in order by making sliding moves that use the empty space.\n",
    "\n",
    "Note that this puzzle also exists in other sizes, for example 3-puzzle (2x2), 15-puzzle (4x4), 24-puzzle (5x5), etc. "
   ],
   "metadata": {}
  },
  {
   "cell_type": "markdown",
   "source": [
    "## Problem formulation\n",
    "To solve any problem using search algorithms, first we need to specify exactly what are the possible **states** and **actions** and how they are represented in a computer. This is called **problem formulation**."
   ],
   "metadata": {}
  },
  {
   "cell_type": "markdown",
   "source": [
    "### State Space Graph\n",
    "\n",
    "In fact, when we specify states and possible actions in each state, we are specifying a graph which is called **State Space Graph**. \n",
    "\n",
    "In this graph:\n",
    " - each node represents a unique **state** of the problem, and\n",
    " - each edge represents a possible **action** which results into a new state.\n",
    " - also, one special node is specified as **start state**, and\n",
    " - one or more nodes are specified as **goal states**.\n",
    " \n",
    "#### States\n",
    "\n",
    "Here in our implementation, we represent any possible state by a list of numbers from 0 to N (0 represents the blank tile).\n",
    "\n",
    "**Example:** \n",
    "```python\n",
    "[0, 1, 2, 3, 4, 5, 6, 7, 8]\n",
    "```\n",
    "\n",
    "represents:\n",
    "<img src='imgs/sample_state.png' width='15%'>\n",
    "\n",
    "#### Actions\n",
    "\n",
    "Here for simplicity, we define the four possible actions (left, up, right, down) for the blank square. So, \"left\" means that the blank square goes left, \"up\" means that the blank square goes up, etc.\n",
    "\n",
    "| Action    | Description                |\n",
    "|:---------:|:---------------------------|\n",
    "| **LEFT**  |the blank square goes left  |\n",
    "| **UP**    |the blank square goes up    |\n",
    "| **RIGHT** |the blank square goes right |\n",
    "| **DOWN**  |the blank square goes down  |\n",
    "\n",
    "#### Solution\n",
    "\n",
    "> solving a problem means finding a sequence of actions from start state to a goal state in the state space graph. This is called **solution path** and is the output of the search algorithm. Later, you see other types of search algorithms that return a single state instead of a path.\n",
    "\n",
    "**Example**:\n",
    "<img src='imgs/sample_solution_path.png' width='90%'>"
   ],
   "metadata": {}
  },
  {
   "cell_type": "markdown",
   "source": [
    "### Implementing N-puzzle states\n",
    "Any state for a search problem should have the following methods:\n",
    "- `successors()`: which returns a list of successor states for this state. a successor state is an state that can be reached by applying a single action on the current state.\n",
    "- `is_goal(goal_state)`: which determines if the state is equal to the goal state (or one of the goal states). This is required during the search for a solution path. As you will see, the search process terminates when we find a goal state. We will implement this functionality by implementing the `__eq__()` method for the state class.\n",
    "\n",
    "other methods:\n",
    "- `__repr__()`: Always you have to implement this method for any class you define in python. It shows an *official* string representation for the object. This is invoked when you simply write object's name on interactive python console and press enter.\n",
    "- `__str__()`: this is used in python when you try to print an object. In fact, when you use `print(o)`, python first executes the `__str__()` method to compute a string representation for object `o` and then prints that string. The aim is to provide a nice human readable string representation for the object.\n",
    "- `__hash__()`: We need to implement this method to make the state **hashable**. States in a search problem must be hashable since during the search process, we need to put them in a `set()` object or a `dict()` object (to prevent expanding a node/state more than once). This is required for **Graph Search**. "
   ],
   "metadata": {}
  },
  {
   "cell_type": "code",
   "execution_count": 2,
   "source": [
    "class NPuzzleState:\n",
    "    \n",
    "    def __init__(self, N=8, tiles=None):\n",
    "        if tiles is None:\n",
    "            self.tiles = tuple(range(N + 1))  # [0, 1, 2, ..., N] and 0 is blank\n",
    "        else:\n",
    "            N = len(tiles) - 1\n",
    "            self.tiles = tuple(tiles[:])\n",
    "        \n",
    "        self.N = N\n",
    "        self.grid_size = int(math.sqrt(N + 1))  # for 8-puzzle, this is 3x3\n",
    "            \n",
    "    def successors(self):\n",
    "        ''' Returns a list of possible actions, their costs and their resulting states.\n",
    "        '''\n",
    "        \n",
    "        blank_idx = self.tiles.index(0)\n",
    "        successors = []\n",
    "        \n",
    "        # left\n",
    "        if blank_idx % self.grid_size > 0:\n",
    "            tiles = list(self.tiles)\n",
    "            tiles[blank_idx], tiles[blank_idx - 1] = tiles[blank_idx - 1], tiles[blank_idx]\n",
    "            successor = NPuzzleState(tiles=tiles)\n",
    "            successors.append((successor, 'Left', 1))\n",
    "        \n",
    "        # up\n",
    "        if blank_idx >= self.grid_size:\n",
    "            tiles = list(self.tiles)\n",
    "            tiles[blank_idx], tiles[blank_idx - self.grid_size] = tiles[blank_idx - self.grid_size], tiles[blank_idx]\n",
    "            successor = NPuzzleState(tiles=tiles)\n",
    "            successors.append((successor, 'Up', 1))\n",
    "        \n",
    "        # right\n",
    "        if blank_idx % self.grid_size < self.grid_size - 1:\n",
    "            tiles = list(self.tiles)\n",
    "            tiles[blank_idx], tiles[blank_idx + 1] = tiles[blank_idx + 1], tiles[blank_idx]\n",
    "            successor = NPuzzleState(tiles=tiles)\n",
    "            successors.append((successor, 'Right', 1))\n",
    "            \n",
    "        # down\n",
    "        if blank_idx + self.grid_size < len(self.tiles):\n",
    "            tiles = list(self.tiles)\n",
    "            tiles[blank_idx], tiles[blank_idx + self.grid_size] = tiles[blank_idx + self.grid_size], tiles[blank_idx]\n",
    "            successor = NPuzzleState(tiles=tiles)\n",
    "            successors.append((successor, 'Down', 1))\n",
    "        \n",
    "        return successors\n",
    "    \n",
    "    def is_goal(self, goal_state):\n",
    "        return self == goal_state\n",
    "    \n",
    "    def plot(self, ax=None, title=None, fs=20):\n",
    "        if ax is None:\n",
    "            _, ax = plt.subplots(1)\n",
    "            \n",
    "        gs = self.grid_size\n",
    "        \n",
    "        # draw border\n",
    "        border = plt.Rectangle((0, 0), gs, gs, ec='k', fc='w', lw=3)\n",
    "        ax.add_patch(border)\n",
    "        \n",
    "        # draw tiles\n",
    "        for i, tile in enumerate(self.tiles):\n",
    "            if tile == 0: continue\n",
    "            col = self.grid_size - 1 - i // self.grid_size\n",
    "            row = i %  self.grid_size\n",
    "            cell = plt.Rectangle((row, col), 1, 1, fc='darkslateblue', ec='k', lw=3, alpha=0.4)\n",
    "            ax.add_patch(cell)\n",
    "            tileSq = plt.Rectangle((row + 0.15, col + 0.15), 0.7, 0.7, fc='darkslateblue', ec='k', lw=1, alpha=0.8)\n",
    "            ax.add_patch(tileSq)\n",
    "            ax.text(row + 0.5, col + 0.5, f\"{tile}\", color='w', fontsize=fs, va='center', ha='center')\n",
    "        \n",
    "        ax.axis('square')\n",
    "        ax.axis('off')\n",
    "        if title:\n",
    "            ax.set_title(title, fontsize=fs)\n",
    "            \n",
    "    def __hash__(self):\n",
    "        return hash(self.tiles)\n",
    "    \n",
    "    def __eq__(self, other):\n",
    "        if self is other: return True  # True object equallity test for efficiency\n",
    "        if other is None: return False\n",
    "        if not isinstance(other, NPuzzleState): return False\n",
    "        \n",
    "        return self.tiles == other.tiles\n",
    "    \n",
    "    def __str__(self):\n",
    "        \"\"\" An string representation of the tiles configuration in 2d format.\n",
    "        \"\"\"\n",
    "        result = ''\n",
    "        for i in range(len(self.tiles)):\n",
    "            result += f' {self.tiles[i]:2d} ' if self.tiles[i] != 0 else '    '\n",
    "            if i % self.grid_size == self.grid_size - 1 and i < self.N:\n",
    "                result += '\\n'\n",
    "        return result\n",
    "    \n",
    "    def __repr__(self):\n",
    "        return f'NPuzzleState(N={self.N}, tiles={self.tiles})'"
   ],
   "outputs": [],
   "metadata": {}
  },
  {
   "cell_type": "markdown",
   "source": [
    "For example, here we have defined the start state and the goal state and we need to find a sequence of actions (left, up, right, down) from the start state to the goal state."
   ],
   "metadata": {}
  },
  {
   "cell_type": "code",
   "execution_count": 3,
   "source": [
    "start_state_tiles = [\n",
    "    2, 8, 3, \n",
    "    1, 6, 4, \n",
    "    7, 0, 5]\n",
    "\n",
    "goal_state_tiles = [\n",
    "    1, 2, 3, \n",
    "    8, 0, 4,\n",
    "    7, 6, 5]\n",
    "\n",
    "# define start state and goal state\n",
    "start_state = NPuzzleState(tiles=start_state_tiles)\n",
    "goal_state = NPuzzleState(tiles=goal_state_tiles)\n",
    "\n",
    "# plot the start state and the goal state\n",
    "fig, axes = plt.subplots(1, 2, figsize=(6, 3))\n",
    "start_state.plot(axes[0], 'Start')\n",
    "goal_state.plot(axes[1], 'Goal')\n",
    "plt.show()"
   ],
   "outputs": [
    {
     "output_type": "display_data",
     "data": {
      "image/png": "[encoded data removed]",
      "text/plain": [
       "<Figure size 432x216 with 2 Axes>"
      ]
     },
     "metadata": {
      "needs_background": "light"
     }
    }
   ],
   "metadata": {}
  },
  {
   "cell_type": "code",
   "execution_count": 4,
   "source": [
    "print(start_state)"
   ],
   "outputs": [
    {
     "output_type": "stream",
     "name": "stdout",
     "text": [
      "  2   8   3 \n",
      "  1   6   4 \n",
      "  7       5 \n"
     ]
    }
   ],
   "metadata": {}
  },
  {
   "cell_type": "code",
   "execution_count": 5,
   "source": [
    "start_state"
   ],
   "outputs": [
    {
     "output_type": "execute_result",
     "data": {
      "text/plain": [
       "NPuzzleState(N=8, tiles=(2, 8, 3, 1, 6, 4, 7, 0, 5))"
      ]
     },
     "metadata": {},
     "execution_count": 5
    }
   ],
   "metadata": {}
  },
  {
   "cell_type": "code",
   "execution_count": 6,
   "source": [
    "eval(repr(start_state))"
   ],
   "outputs": [
    {
     "output_type": "execute_result",
     "data": {
      "text/plain": [
       "NPuzzleState(N=8, tiles=(2, 8, 3, 1, 6, 4, 7, 0, 5))"
      ]
     },
     "metadata": {},
     "execution_count": 6
    }
   ],
   "metadata": {}
  },
  {
   "cell_type": "markdown",
   "source": [
    "### Successor function"
   ],
   "metadata": {}
  },
  {
   "cell_type": "code",
   "execution_count": 7,
   "source": [
    "successors = start_state.successors()\n",
    "fig, axes = plt.subplots(1, 1 + len(successors), figsize=(15, 3))\n",
    "\n",
    "# plot start state\n",
    "start_state.plot(axes[0], 'State')\n",
    "\n",
    "# plot successors of the start state\n",
    "for i, (state, action, step_cost) in enumerate(successors):\n",
    "    state.plot(axes[i+1], action)"
   ],
   "outputs": [
    {
     "output_type": "display_data",
     "data": {
      "image/png": "[encoded data removed]",
      "text/plain": [
       "<Figure size 1080x216 with 4 Axes>"
      ]
     },
     "metadata": {
      "needs_background": "light"
     }
    }
   ],
   "metadata": {}
  },
  {
   "cell_type": "markdown",
   "source": [
    "## What is next?\n",
    "- Now that we have problem formulation for the N-Puzzle problem, it's time to implement different search strategies to solve this problem.\n",
    "- In the next lesson, we will implement uninformed search strategies including, \n",
    "    - Breadth-First Search (BFS), \n",
    "    - uniform cost search (UCS),\n",
    "    - Depth-First Search (DFS),\n",
    "    - Depth Limitted Search (DLS),\n",
    "    - Iterative Deepening Search (IDS)"
   ],
   "metadata": {}
  }
 ],
 "metadata": {
  "interpreter": {
   "hash": "db4280cfac26d1f17ba08bcc8b51b906ec3585d94092157597b7da58b570ab73"
  },
  "kernelspec": {
   "name": "python3",
   "display_name": "Python 3.9.6 64-bit ('venv': venv)"
  },
  "language_info": {
   "codemirror_mode": {
    "name": "ipython",
    "version": 3
   },
   "file_extension": ".py",
   "mimetype": "text/x-python",
   "name": "python",
   "nbconvert_exporter": "python",
   "pygments_lexer": "ipython3",
   "version": "3.9.6"
  }
 },
 "nbformat": 4,
 "nbformat_minor": 4
}