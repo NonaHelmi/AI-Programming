{
 "cells": [
  {
   "cell_type": "markdown",
   "metadata": {},
   "source": [
    "<div class='alert alert-success'>\n",
    "    <h1 align=\"center\">Search Algorithms: Data Structuress</h1> \n",
    "    <h3 align=\"center\">Artificial Intelligece Course (Fall 2021)</h3>\n",
    "    <h5 align=\"center\">Seyed Naser RAZAVI <a href='http://www.snrazavi.ir/ai-slides/'>(website)</a></h5>\n",
    "</div>"
   ]
  },
  {
   "cell_type": "markdown",
   "metadata": {},
   "source": [
    "## Data Structures\n",
    "\n",
    "In next lessons, we will implement several search strategies. As you will see, for efficient implementation of these strategies, we will need to use a couple of data structures. Today we will be talking about these data structures and how we can implement them in Python. In particular, we will implement the following three data structures:\n",
    "- Stack (LIFO)\n",
    "- Queue (FIFO)\n",
    "- Priority Queue\n",
    "\n",
    "The most important operations for these data structures are:\n",
    "1. **Push**: adding a new element to the data structure.\n",
    "2. **Pop**: Removing an element from the data structure.\n",
    "\n",
    "The difference is how we remove an element from these data structures:\n",
    "- Stack: remove the element which is pushed onto the stack most recently.\n",
    "- Queue: remove the element which is added before all other elements.\n",
    "- Priority Queue: remove an element which has the highest priority, regardless of when it is added."
   ]
  },
  {
   "cell_type": "markdown",
   "metadata": {},
   "source": [
    "## Stack\n",
    "\n",
    "Stack is a data structure (list) in which elements are added and removed from on side."
   ]
  },
  {
   "cell_type": "code",
   "execution_count": 1,
   "metadata": {},
   "outputs": [],
   "source": [
    "class Stack:\n",
    "    def __init__(self, items=None):\n",
    "        self._items = []\n",
    "        \n",
    "        if items:\n",
    "            for item in items:\n",
    "                self.push(item)\n",
    "    \n",
    "    def push(self, item):\n",
    "        '''Add to the end'''\n",
    "        self._items.append(item)\n",
    "    \n",
    "    def pop(self):\n",
    "        '''Remove from end'''\n",
    "        try:\n",
    "            item = self._items.pop()\n",
    "            return item\n",
    "        except:\n",
    "            print('ERROR! trying to pop an element from an empty stack.')\n",
    "                \n",
    "    \n",
    "    def is_empty(self):\n",
    "        return len(self._items) == 0\n",
    "    \n",
    "    def __repr__(self):\n",
    "        return f'Stack(items={self._items})'\n",
    "    \n",
    "    def __str__(self):\n",
    "        return f\"[{', '.join(self._items)}]\""
   ]
  },
  {
   "cell_type": "code",
   "execution_count": 2,
   "metadata": {},
   "outputs": [
    {
     "name": "stdout",
     "output_type": "stream",
     "text": [
      "[]\n",
      "[a]\n",
      "[a, b]\n",
      "[a, b, c]\n",
      "[a, b, c, d]\n",
      "[a, b, c]\n",
      "[a, b]\n",
      "[a]\n",
      "[]\n",
      "ERROR! trying to pop an element from an empty stack.\n",
      "[]\n"
     ]
    }
   ],
   "source": [
    "# test\n",
    "s = Stack()\n",
    "print(s)\n",
    "\n",
    "for x in 'abcd':\n",
    "    s.push(x)\n",
    "    print(s)\n",
    "    \n",
    "for i in range(5):\n",
    "    _ = s.pop()\n",
    "    print(s)"
   ]
  },
  {
   "cell_type": "code",
   "execution_count": 3,
   "metadata": {},
   "outputs": [
    {
     "data": {
      "text/plain": [
       "Stack(items=[])"
      ]
     },
     "execution_count": 3,
     "metadata": {},
     "output_type": "execute_result"
    }
   ],
   "source": [
    "s"
   ]
  },
  {
   "cell_type": "code",
   "execution_count": 4,
   "metadata": {},
   "outputs": [
    {
     "data": {
      "text/plain": [
       "Stack(items=[1, 2, 3])"
      ]
     },
     "execution_count": 4,
     "metadata": {},
     "output_type": "execute_result"
    }
   ],
   "source": [
    "s = Stack([1, 2, 3])\n",
    "s"
   ]
  },
  {
   "cell_type": "markdown",
   "metadata": {},
   "source": [
    "## Queue"
   ]
  },
  {
   "cell_type": "code",
   "execution_count": 5,
   "metadata": {},
   "outputs": [],
   "source": [
    "class Queue:\n",
    "    def __init__(self, items=None):\n",
    "        self._items = []\n",
    "        \n",
    "        if items:\n",
    "            for item in items:\n",
    "                self.push(item)\n",
    "    \n",
    "    def push(self, item):\n",
    "        '''Add to the rear'''\n",
    "        self._items.append(item)\n",
    "    \n",
    "    def pop(self):\n",
    "        '''Remove from front'''\n",
    "        try:\n",
    "            item = self._items[0]\n",
    "            self._items = self._items[1:]\n",
    "            return item\n",
    "        except:\n",
    "            print('ERROR! trying to pop an element from an empty queue.')\n",
    "    \n",
    "    def is_empty(self):\n",
    "        return len(self._items) == 0\n",
    "    \n",
    "    def __repr__(self):\n",
    "        return f'Queue(items={self._items})'\n",
    "    \n",
    "    def __str__(self):\n",
    "        return f\"[{', '.join(self._items)}]\""
   ]
  },
  {
   "cell_type": "code",
   "execution_count": 6,
   "metadata": {},
   "outputs": [
    {
     "name": "stdout",
     "output_type": "stream",
     "text": [
      "[]\n",
      "[a]\n",
      "[a, b]\n",
      "[a, b, c]\n",
      "[a, b, c, d]\n",
      "[b, c, d]\n",
      "[c, d]\n",
      "[d]\n",
      "[]\n",
      "ERROR! trying to pop an element from an empty queue.\n",
      "[]\n"
     ]
    }
   ],
   "source": [
    "# test\n",
    "q = Queue()\n",
    "print(q)\n",
    "\n",
    "for x in 'abcd':\n",
    "    q.push(x)\n",
    "    print(q)\n",
    "    \n",
    "for i in range(5):\n",
    "    _ = q.pop()\n",
    "    print(q)"
   ]
  },
  {
   "cell_type": "code",
   "execution_count": 7,
   "metadata": {},
   "outputs": [
    {
     "data": {
      "text/plain": [
       "Queue(items=[])"
      ]
     },
     "execution_count": 7,
     "metadata": {},
     "output_type": "execute_result"
    }
   ],
   "source": [
    "q"
   ]
  },
  {
   "cell_type": "code",
   "execution_count": 8,
   "metadata": {},
   "outputs": [
    {
     "data": {
      "text/plain": [
       "Queue(items=[1, 2, 3])"
      ]
     },
     "execution_count": 8,
     "metadata": {},
     "output_type": "execute_result"
    }
   ],
   "source": [
    "q = Queue([1, 2, 3])\n",
    "q"
   ]
  },
  {
   "cell_type": "markdown",
   "metadata": {},
   "source": [
    "## Priority Queue"
   ]
  },
  {
   "cell_type": "code",
   "execution_count": 9,
   "metadata": {},
   "outputs": [],
   "source": [
    "import heapq\n",
    "\n",
    "\n",
    "class PriorityQueue:\n",
    "    ''' Min Priority Queue'''\n",
    "    \n",
    "    def __init__(self, items=None):\n",
    "        self._items = []\n",
    "        self.index = 0\n",
    "        \n",
    "        if items:\n",
    "            for item, priority in items:\n",
    "                self.push(item, priority)\n",
    "        \n",
    "    def push(self, item, priority):\n",
    "        '''Add to the rear'''\n",
    "        entry = (priority, self.index, item)\n",
    "        heapq.heappush(self._items, entry)\n",
    "        self.index += 1\n",
    "    \n",
    "    def pop(self):\n",
    "        '''Remove the item with highest priority'''\n",
    "        try:\n",
    "            _, _, item = heapq.heappop(self._items)\n",
    "            return item\n",
    "        except:\n",
    "            print('ERROR! trying to pop an element from an empty priority queue.')\n",
    "    \n",
    "    def is_empty(self):\n",
    "        return len(self._items) == 0\n",
    "    \n",
    "    def __repr__(self):\n",
    "        return f'PriorityQueue(items={self._items})'\n",
    "    \n",
    "    def __str__(self):\n",
    "        res = '['\n",
    "        for priority, _, item in self._items:\n",
    "            res += f' {item}({priority}) '\n",
    "        res += ']'\n",
    "        return res"
   ]
  },
  {
   "cell_type": "code",
   "execution_count": 10,
   "metadata": {},
   "outputs": [
    {
     "name": "stdout",
     "output_type": "stream",
     "text": [
      "[]\n",
      "[ a(7) ]\n",
      "[ b(3)  a(7) ]\n",
      "[ b(3)  a(7)  c(9) ]\n",
      "[ d(1)  b(3)  c(9)  a(7) ]\n",
      "[ b(3)  a(7)  c(9) ]\n",
      "[ a(7)  c(9) ]\n",
      "[ c(9) ]\n",
      "[]\n",
      "ERROR! trying to pop an element from an empty priority queue.\n",
      "[]\n"
     ]
    }
   ],
   "source": [
    "# test\n",
    "pq = PriorityQueue()\n",
    "print(pq)\n",
    "\n",
    "for x, p in [('a', 7), ('b', 3), ('c', 9), ('d', 1)]:\n",
    "    pq.push(x, p)\n",
    "    print(pq)\n",
    "    \n",
    "for i in range(5):\n",
    "    _ = pq.pop()\n",
    "    print(pq)"
   ]
  },
  {
   "cell_type": "code",
   "execution_count": 11,
   "metadata": {},
   "outputs": [
    {
     "data": {
      "text/plain": [
       "PriorityQueue(items=[])"
      ]
     },
     "execution_count": 11,
     "metadata": {},
     "output_type": "execute_result"
    }
   ],
   "source": [
    "pq"
   ]
  },
  {
   "cell_type": "code",
   "execution_count": 12,
   "metadata": {},
   "outputs": [
    {
     "data": {
      "text/plain": [
       "PriorityQueue(items=[(1, 3, 'd'), (3, 1, 'b'), (9, 2, 'c'), (7, 0, 'a')])"
      ]
     },
     "execution_count": 12,
     "metadata": {},
     "output_type": "execute_result"
    }
   ],
   "source": [
    "pq = PriorityQueue([('a', 7), ('b', 3), ('c', 9), ('d', 1)])\n",
    "pq"
   ]
  },
  {
   "cell_type": "code",
   "execution_count": null,
   "metadata": {},
   "outputs": [],
   "source": []
  }
 ],
 "metadata": {
  "interpreter": {
   "hash": "31f2aee4e71d21fbe5cf8b01ff0e069b9275f58929596ceb00d14d90e3e16cd6"
  },
  "kernelspec": {
   "display_name": "Python 3 (ipykernel)",
   "language": "python",
   "name": "python3"
  },
  "language_info": {
   "codemirror_mode": {
    "name": "ipython",
    "version": 3
   },
   "file_extension": ".py",
   "mimetype": "text/x-python",
   "name": "python",
   "nbconvert_exporter": "python",
   "pygments_lexer": "ipython3",
   "version": "3.9.6"
  }
 },
 "nbformat": 4,
 "nbformat_minor": 4
}
